{
 "cells": [
  {
   "cell_type": "markdown",
   "metadata": {},
   "source": [
    "### Homework 2"
   ]
  },
  {
   "cell_type": "markdown",
   "metadata": {},
   "source": [
    "#### Import the libraries we'll need"
   ]
  },
  {
   "cell_type": "code",
   "execution_count": 46,
   "metadata": {},
   "outputs": [],
   "source": [
    "import matplotlib.pyplot as plt # import matplotlib with shorter name\n",
    "import pandas as pd # import pandas with shorter name\n",
    "import datetime"
   ]
  },
  {
   "cell_type": "markdown",
   "metadata": {},
   "source": [
    "#### We're going to import the wind dataset we used in class. The dataset contains daily average wind speeds for 1961-1978 from 12 meteorological stations in the Republic of Ireland (Haslett and Raftery 1989).\n",
    "\n",
    "#### Each line corresponds to one day of data in the following format: year, month, day, average wind speed at each of the stations. Station names are abbreviated as RPT, VAL, ROS, KIL, SHA, BIR, DUB, CLA, MUL, CLO, BEL, and MAL\n",
    "\n",
    "#### The data are in knots, not in m/s.\n",
    "\n",
    "#### The original data file has three columns Year, Month, Day for time. We're going to use the parse_dates feature in read_table() to say that these columns (column numbers 0, 1, and 2 can be combined to create a date in the format YYYY-MM-DD"
   ]
  },
  {
   "cell_type": "code",
   "execution_count": 47,
   "metadata": {},
   "outputs": [],
   "source": [
    "data_url = 'https://raw.githubusercontent.com/guipsamora/pandas_exercises/master/06_Stats/Wind_Stats/wind.data'\n",
    "data = pd.read_table(data_url, sep = \"\\s+\", parse_dates = [[0,1,2]]) "
   ]
  },
  {
   "cell_type": "markdown",
   "metadata": {},
   "source": [
    "#### Recall that parse_dates has trouble with our two-digit year. This function will fix that"
   ]
  },
  {
   "cell_type": "code",
   "execution_count": 48,
   "metadata": {},
   "outputs": [],
   "source": [
    "# function that uses datetime\n",
    "def fix_century(x):\n",
    "  year = x.year - 100 if x.year > 1989 else x.year\n",
    "  return datetime.date(year, x.month, x.day)\n",
    "\n",
    "# apply the function fix_century on the column and replace the values to the right ones\n",
    "data['Yr_Mo_Dy'] = data['Yr_Mo_Dy'].apply(fix_century)"
   ]
  },
  {
   "cell_type": "markdown",
   "metadata": {},
   "source": [
    "#### 1.) Matplotlib will try to open a new window on the computer it's running on. In a cloud-based environment like this, that's not what we want. We want the plotting to be done locally (on the computer we're using to log into Jupyter Hub). We've already imported matplotlib. Add the command here that tells matplotlib to do the plotting here (1 point)"
   ]
  },
  {
   "cell_type": "code",
   "execution_count": 49,
   "metadata": {},
   "outputs": [],
   "source": [
    "# tell Python to do the plotting here, not on the server\n",
    "%matplotlib inline"
   ]
  },
  {
   "cell_type": "markdown",
   "metadata": {},
   "source": [
    "#### Let's try resampling the data and looking at monthly averages\n",
    "\n",
    "#### The groupby function we looked at earlier did this for us. However, groupby is a one-time summary and not something we can use in plotting. We need to actually create a new dataset that is the monthly averages. Fortunately, Pandas can do this for us rather easily\n",
    "\n",
    "#### Pandas refers to a table of data as a 'DataFrame'. We'll start by creating a new DataFrame called 'monthly'. From there, we just need to tell Python what to include in the new table. Here, we're including just two columns - the Killarney monthly averages and the dates. The 'resample' function will compute the averages for us. We just need to tell it what to compute over and the rate. Here, we use 'M' to indicate monthly. The date column is brought over automatically because Pandas knows we can't do much without it."
   ]
  },
  {
   "cell_type": "code",
   "execution_count": 50,
   "metadata": {},
   "outputs": [],
   "source": [
    "# first, we need to tell Pandas that Yr_Mo_Dy column is type date\n",
    "# then we set this column as the index. This way when we call 'resample'\n",
    "# Pandas knows which column to use\n",
    "data[\"Yr_Mo_Dy\"] = pd.to_datetime(data[\"Yr_Mo_Dy\"])\n",
    "data = data.set_index('Yr_Mo_Dy')\n",
    "monthly = pd.DataFrame()\n",
    "monthly['KIL'] = data['KIL'].resample('M').mean()"
   ]
  },
  {
   "cell_type": "markdown",
   "metadata": {},
   "source": [
    "#### 2.) Create a histogram of the Killarney wind speeds. Set the x-axis label to be 'Wind Speed (knots)', the y-axis label to be 'Number of Occurances', and the title to be 'Killarney Monthly Wind Speed' (4 points)"
   ]
  },
  {
   "cell_type": "code",
   "execution_count": 51,
   "metadata": {},
   "outputs": [
    {
     "data": {
      "text/plain": [
       "Text(0.5,1,'Killarney Monthly Wind Speed')"
      ]
     },
     "execution_count": 51,
     "metadata": {},
     "output_type": "execute_result"
    },
    {
     "data": {
      "image/png": "[encoded data removed]",
      "text/plain": [
       "<Figure size 432x288 with 1 Axes>"
      ]
     },
     "metadata": {},
     "output_type": "display_data"
    }
   ],
   "source": [
    "## plot statements here\n",
    "plt.hist(monthly['KIL'])\n",
    "plt.ylabel('Number of Occurances')\n",
    "plt.xlabel('Wind Speed (knots)')\n",
    "plt.title('Killarney Monthly Wind Speed')"
   ]
  },
  {
   "cell_type": "markdown",
   "metadata": {},
   "source": [
    "#### 3.) The data are a rough normal distribution. For a review of normal distributions see [this Wikipedia link](https://en.wikipedia.org/wiki/Normal_curve). For the sake of this problem, let's assume the data are normally distributed and we can use the properties of normal distributions to find outliers. \n",
    "\n",
    "#### As mentioned [here](https://en.wikipedia.org/wiki/1.96) 95% of the data fall within 1.96 standard deviations of the mean. Anything outside of this range we can consider an 'outlier'. In other words, values outside of this range are extreme events (unusually high or lower values)\n"
   ]
  },
  {
   "cell_type": "markdown",
   "metadata": {},
   "source": [
    "#### 3a.) Find the standard deviation of the Killarney monthly wind data. Print the standard deviation (2 points)"
   ]
  },
  {
   "cell_type": "code",
   "execution_count": 52,
   "metadata": {},
   "outputs": [
    {
     "name": "stdout",
     "output_type": "stream",
     "text": [
      "1.3896816958343987\n"
     ]
    }
   ],
   "source": [
    "# compute standard deviation\n",
    "print(monthly['KIL'].std())"
   ]
  },
  {
   "cell_type": "markdown",
   "metadata": {},
   "source": [
    "#### 3b.) Use the standard deviation to find all outliers. Hint: look back over our Chipotle filtering example (3 points)"
   ]
  },
  {
   "cell_type": "code",
   "execution_count": 53,
   "metadata": {},
   "outputs": [
    {
     "name": "stdout",
     "output_type": "stream",
     "text": [
      "9.03438782489319\n",
      "3.5868355772223475\n"
     ]
    },
    {
     "data": {
      "text/html": [
       "<div>\n",
       "<style scoped>\n",
       "    .dataframe tbody tr th:only-of-type {\n",
       "        vertical-align: middle;\n",
       "    }\n",
       "\n",
       "    .dataframe tbody tr th {\n",
       "        vertical-align: top;\n",
       "    }\n",
       "\n",
       "    .dataframe thead th {\n",
       "        text-align: right;\n",
       "    }\n",
       "</style>\n",
       "<table border=\"1\" class=\"dataframe\">\n",
       "  <thead>\n",
       "    <tr style=\"text-align: right;\">\n",
       "      <th></th>\n",
       "      <th>KIL</th>\n",
       "    </tr>\n",
       "    <tr>\n",
       "      <th>Yr_Mo_Dy</th>\n",
       "      <th></th>\n",
       "    </tr>\n",
       "  </thead>\n",
       "  <tbody>\n",
       "    <tr>\n",
       "      <th>1961-02-28</th>\n",
       "      <td>9.230741</td>\n",
       "    </tr>\n",
       "    <tr>\n",
       "      <th>1962-02-28</th>\n",
       "      <td>9.262963</td>\n",
       "    </tr>\n",
       "    <tr>\n",
       "      <th>1962-12-31</th>\n",
       "      <td>9.557419</td>\n",
       "    </tr>\n",
       "    <tr>\n",
       "      <th>1963-03-31</th>\n",
       "      <td>9.268387</td>\n",
       "    </tr>\n",
       "    <tr>\n",
       "      <th>1966-02-28</th>\n",
       "      <td>9.524286</td>\n",
       "    </tr>\n",
       "  </tbody>\n",
       "</table>\n",
       "</div>"
      ],
      "text/plain": [
       "                 KIL\n",
       "Yr_Mo_Dy            \n",
       "1961-02-28  9.230741\n",
       "1962-02-28  9.262963\n",
       "1962-12-31  9.557419\n",
       "1963-03-31  9.268387\n",
       "1966-02-28  9.524286"
      ]
     },
     "execution_count": 53,
     "metadata": {},
     "output_type": "execute_result"
    }
   ],
   "source": [
    "# outlier computations\n",
    "stdev = monthly['KIL'].std()\n",
    "avg = monthly['KIL'].mean()\n",
    "\n",
    "#how to get rid of oulers using 1.96 std dev away?\n",
    "cutoff = 1.96*(stdev)\n",
    "above = avg + cutoff\n",
    "below = avg - cutoff\n",
    "print(above)\n",
    "print(below)\n",
    "\n",
    "\n",
    "outlyin = monthly[(monthly['KIL']> above) | (monthly['KIL'] < below)]\n",
    "outlyin.head()"
   ]
  },
  {
   "cell_type": "markdown",
   "metadata": {},
   "source": [
    "#### 3c.) How many outliers are there? (1 point)"
   ]
  },
  {
   "cell_type": "code",
   "execution_count": 54,
   "metadata": {},
   "outputs": [
    {
     "data": {
      "text/plain": [
       "(13, 1)"
      ]
     },
     "execution_count": 54,
     "metadata": {},
     "output_type": "execute_result"
    }
   ],
   "source": [
    "# how many outliers?\n",
    "outlyin.shape"
   ]
  },
  {
   "cell_type": "markdown",
   "metadata": {},
   "source": [
    "Thirteen outliers in all"
   ]
  },
  {
   "cell_type": "markdown",
   "metadata": {},
   "source": [
    "#### 3d.) How extreme were the outliers at Killarney? Print out the average Killarney wind speed and use the max() and min() functions on the outliers to find the maximum and minimum speeds (3 points)"
   ]
  },
  {
   "cell_type": "code",
   "execution_count": 55,
   "metadata": {},
   "outputs": [
    {
     "name": "stdout",
     "output_type": "stream",
     "text": [
      "6.310611701057769\n"
     ]
    }
   ],
   "source": [
    "# 3 print statements\n",
    "print(avg)"
   ]
  },
  {
   "cell_type": "code",
   "execution_count": 56,
   "metadata": {},
   "outputs": [
    {
     "name": "stdout",
     "output_type": "stream",
     "text": [
      "KIL    3.142258\n",
      "dtype: float64\n"
     ]
    }
   ],
   "source": [
    "print(outlyin.min())"
   ]
  },
  {
   "cell_type": "code",
   "execution_count": 57,
   "metadata": {},
   "outputs": [
    {
     "name": "stdout",
     "output_type": "stream",
     "text": [
      "KIL    10.549355\n",
      "dtype: float64\n"
     ]
    }
   ],
   "source": [
    "print(outlyin.max())"
   ]
  },
  {
   "cell_type": "markdown",
   "metadata": {},
   "source": [
    "#### 4.) In Homework 1 we wrote a cannon ball launcher simulation. We started with an initial velocity of 10 m/s and incremented that initial velocity by 0.25 m/s until we found an initial velocity that got our cannon ball to 70 meters. If we printed out the initial velocity and distance at each step we'd get the following table.\n",
    "\n",
    "| Initial Velocity (m/s)       | Distance (meters) |\n",
    "| ------------- |:-------------:| \n",
    "| 10.00 | 12.3 |\n",
    "| 10.25 | 12.6 |\n",
    "| 10.50 | 12.9 |\n",
    "| 10.75 |14.0 |\n",
    "| 11.00 |14.3 |\n",
    "| 11.25 | 14.7 |\n",
    "| 11.50 | 15.0 |\n",
    "| 11.75 | 16.2 |\n",
    "| 12.00 | 16.5 |\n",
    "| 12.25 | 16.9 |\n",
    "| 12.50 | 18.2 |\n",
    "| 12.75 | 18.6 |\n",
    "| 13.00 | 18.9 |\n",
    "| 13.25 | 19.3 |\n",
    "| 13.50 | 20.7 |\n",
    "| 13.75 | 21.1 |\n",
    "| 14.00 | 21.4 |\n",
    "| 14.25 | 22.9 |\n",
    "| 14.50 | 23.3 |\n",
    "| 14.75 | 23.7 |\n",
    "| 15.00 | 25.3 |\n",
    "| 15.25 | 25.7 |\n",
    "| 15.50 | 26.1 |\n",
    "| 15.75 | 27.7 |\n",
    "| 16.00 | 28.2 |\n",
    "| 16.25 | 28.6 |\n",
    "| 16.50 | 29.1 |\n",
    "| 16.75 | 30.8 |\n",
    "| 17.00 | 31.3 |\n",
    "| 17.25 | 31.7 |\n",
    "| 17.50 | 33.5 |\n",
    "| 17.75 | 34.0 |\n",
    "| 18.00 | 34.5 |\n",
    "| 18.25 | 36.3 |\n",
    "| 18.50 | 36.8 |\n",
    "| 18.75 | 37.3 |\n",
    "| 19.00 | 39.3 |\n",
    "| 19.25 | 39.8 |\n",
    "| 19.50 | 40.3 |\n",
    "| 19.75 | 42.4 |\n",
    "| 20.00 | 42.9 |\n",
    "| 20.25 | 43.4 |\n",
    "| 20.50 | 44.0 |\n",
    "| 20.75 | 46.1 |\n",
    "| 21.00 | 46.7 |\n",
    "| 21.25 | 47.2 |\n",
    "| 21.50 | 49.4 |\n",
    "| 21.75 | 50.0 |\n",
    "| 22.00 | 50.6 |\n",
    "| 22.25 | 52.8 |\n",
    "| 22.50 | 53.4 |\n",
    "| 22.75 | 54.0 |\n",
    "| 23.00 | 56.4 |\n",
    "| 23.25 | 57.0 |\n",
    "| 23.50 | 57.6 |\n",
    "| 23.75 | 60.0 |\n",
    "| 24.00 | 60.7 |\n",
    "| 24.25 | 61.3 |\n",
    "| 24.50 | 63.8 |\n",
    "| 24.75 | 64.5 |\n",
    "| 25.00 | 65.1 |\n",
    "| 25.25 | 67.7 |\n",
    "| 25.50 | 68.4 |\n",
    "| 25.75 | 69.0 |\n",
    "| 26.00 | 69.7 |\n",
    "| 26.25 | 72.4 |"
   ]
  },
  {
   "cell_type": "markdown",
   "metadata": {},
   "source": [
    "#### Up to this point we've read data into Pandas from files. Here is an example of how we can use the above table to manually create a Pandas table (what Pandas calls a Data Frame). We'll name our table 'cb', short for cannon ball"
   ]
  },
  {
   "cell_type": "code",
   "execution_count": 58,
   "metadata": {},
   "outputs": [],
   "source": [
    "cb = {\n",
    "        'initial_velocity': [10.0,10.25,10.5,10.75,11.0,11.25,11.5,11.75,12.0,12.25,\n",
    "                             12.5,12.75,13.0,13.25,13.5,13.75,14.0,14.25,14.5,14.75,\n",
    "                             15.0,15.25,15.5,15.75,16.0,16.25,16.5,16.75,17.0,17.25,\n",
    "                             17.5,17.75,18.0,18.25,18.5,18.75,19.0,19.25,19.5,19.75,\n",
    "                             20.0,20.25,20.5,20.75,21.0,21.25,21.5,21.75,22.0,22.25,\n",
    "                             22.5,22.75,23.0,23.25,23.5,23.75,24.0,24.25,24.5,24.75,\n",
    "                             25.0,25.25,25.5,25.75,26.0,26.25],\n",
    "        'distance': [12.26,12.56,12.87,14.00,14.33,14.65,14.98,16.20,16.55,16.89,\n",
    "                     18.19,18.56,18.92,19.29,20.68,21.07,21.45,22.92,23.33,23.73,\n",
    "                     25.28,25.70,26.12,27.75,28.19,28.63,29.07,30.79,31.25,31.71,\n",
    "                     33.51,33.99,34.47,36.35,36.85,37.34,39.30,39.82,40.33,42.36,\n",
    "                     42.90,43.43,43.97,46.10,46.65,47.21,49.41,49.98,50.56,52.84,\n",
    "                     53.43,54.03,56.38,56.99,57.61,60.04,60.67,61.30,63.81,64.46,\n",
    "                     65.11,67.70,68.37,69.04,69.71,72.39]\n",
    "    }"
   ]
  },
  {
   "cell_type": "markdown",
   "metadata": {},
   "source": [
    "#### 4a.) We now have a table with two columns - 'initial_velocity' and 'distance'. Use this table to plot distance (x-axis) vs. initial velocity (y-axis) (2 points)"
   ]
  },
  {
   "cell_type": "code",
   "execution_count": 67,
   "metadata": {},
   "outputs": [
    {
     "data": {
      "text/plain": [
       "Text(0.5,0,'Distance')"
      ]
     },
     "execution_count": 67,
     "metadata": {},
     "output_type": "execute_result"
    },
    {
     "data": {
      "image/png": "[encoded data removed]",
      "text/plain": [
       "<Figure size 432x288 with 1 Axes>"
      ]
     },
     "metadata": {},
     "output_type": "display_data"
    }
   ],
   "source": [
    "# plot statements\n",
    "plt.plot(cb['distance'], cb['initial_velocity'])\n",
    "plt.ylabel('Initial Velocity')\n",
    "plt.xlabel('Distance')"
   ]
  },
  {
   "cell_type": "markdown",
   "metadata": {},
   "source": [
    "#### 4b.) Copy and paste the cannon ball code here. Update the code to do the following:\n",
    "1. Change the step size to increase the initial velocity by 0.01 m/s after each iteration  \n",
    "2. Create two empty lists vels and dist to store the initial velocity and distance at each step  \n",
    "3. After each iteration of the loop add the current initial velocity and distance to the lists\n",
    "\n",
    "(6 points)"
   ]
  },
  {
   "cell_type": "code",
   "execution_count": 68,
   "metadata": {},
   "outputs": [],
   "source": [
    "# code here\n",
    "import math\n",
    "\n",
    "# we could continue to use input statements, but since we know\n",
    "# the initial conditions we'll just type them here to save \n",
    "# ourselves some typing each time the program runs\n",
    "angle = 40.0 # 40 degrees\n",
    "h0 = 1.5 # 1.5 meters\n",
    "time = 0.1 # tenth of a second"
   ]
  },
  {
   "cell_type": "code",
   "execution_count": 79,
   "metadata": {},
   "outputs": [],
   "source": [
    "# set our starting velocity value\n",
    "vel = 10.0 # 10 m/s\n",
    "\n",
    "# also need to set an initial xpos to \n",
    "# initialize our loop\n",
    "xpos = 0.0\n",
    "ypos = h0\n",
    "vels = []\n",
    "dist = []\n",
    "\n",
    "# loop until we reach our desired distance\n",
    "while xpos < 70.0:\n",
    "    \n",
    "    # reset x anx y pos\n",
    "    # this is redundant for the first time through\n",
    "    # but nessecary for each time after that\n",
    "    xpos = 0.0\n",
    "    ypos = h0\n",
    "    \n",
    "    # Convert the angle from degrees to radians. \n",
    "    # Use Python's math library to compute the x and y velocities.\n",
    "    theta = math.pi * angle / 180.0\n",
    "    xvel = vel * math.cos(theta)\n",
    "    yvel = vel * math.sin(theta)\n",
    "\n",
    "    # Use a while loop to continually update the positions \n",
    "    # and y-velocity until the cannon ball hits the ground\n",
    "    while ypos > 0:\n",
    "        xpos = xpos + time * xvel\n",
    "        yvel1 = yvel - time * 9.8\n",
    "        ypos = ypos + time * (yvel + yvel1)/2.0\n",
    "        yvel = yvel1\n",
    "    \n",
    "    #print(\"  Initial velocity of %0.2f m/s go us to %0.1f m\" %(vel, xpos) )\n",
    "    vels.append(vel)\n",
    "    dist.append(xpos)\n",
    "\n",
    "    # increment our velocity by .01 m/s\n",
    "    # this is short-hand Python for vel = vel + 1\n",
    "    vel += 0.01\n",
    "    \n",
    "#print(vels)\n",
    "#print(dist)"
   ]
  },
  {
   "cell_type": "markdown",
   "metadata": {},
   "source": [
    "#### 4c.) Create a plot showing distance (x-axis) vs. velocity (y-axis). This time, plot the data from the cb table (where the step size was 0.25 m/s) and on top of that also plot the new distance/velocity data from above (where the step size is 0.01 m/s). Add a legend so we know which color corresponds to which data. (3 points)"
   ]
  },
  {
   "cell_type": "code",
   "execution_count": 116,
   "metadata": {},
   "outputs": [
    {
     "data": {
      "text/plain": [
       "Text(0.5,0,'Distance')"
      ]
     },
     "execution_count": 116,
     "metadata": {},
     "output_type": "execute_result"
    },
    {
     "data": {
      "image/png": "[encoded data removed]",
      "text/plain": [
       "<Figure size 432x288 with 2 Axes>"
      ]
     },
     "metadata": {},
     "output_type": "display_data"
    }
   ],
   "source": [
    "plt.subplot(2, 1, 1)\n",
    "cbb = plt.plot(cb['distance'], cb['initial_velocity'], 'r', label = \"cb data\")\n",
    "plt.ylabel('CB Initial Velocity')\n",
    "plt.xlabel('Distance')\n",
    "\n",
    "plt.subplot(2, 1, 2)\n",
    "prog = plt.plot(dist, vels)\n",
    "plt.ylabel('Initial Velocity',)\n",
    "plt.xlabel('Distance')\n"
   ]
  },
  {
   "cell_type": "markdown",
   "metadata": {},
   "source": [
    "#### 4d.) Print out the last distance value for BOTH datasets (0.25 and 0.01 m/s step sizes) (1 point)"
   ]
  },
  {
   "cell_type": "code",
   "execution_count": 88,
   "metadata": {},
   "outputs": [
    {
     "name": "stdout",
     "output_type": "stream",
     "text": [
      "72.39 26.25\n",
      "71.75691507584487 26.02000000000144\n"
     ]
    }
   ],
   "source": [
    "# 2 print statements\n",
    "print(cb['distance'][-1], cb['initial_velocity'][-1])\n",
    "print(dist[-1], vels[-1])"
   ]
  },
  {
   "cell_type": "markdown",
   "metadata": {},
   "source": [
    "#### 4e.) The xlim and ylim commands can be used to set the x-range and y-range of the plot, respectively. They each take two inputs - the beginning and the end of the range. For example, if we only wanted to show the x-axis (distance) from 10 meters to 20 meters we would use the command plt.xlim(10,20). Repeat 4c, but this time set the x-range to [65,73] and the y-range to [24.5,27] (1 point)"
   ]
  },
  {
   "cell_type": "code",
   "execution_count": 118,
   "metadata": {},
   "outputs": [
    {
     "data": {
      "text/plain": [
       "(24.5, 27)"
      ]
     },
     "execution_count": 118,
     "metadata": {},
     "output_type": "execute_result"
    },
    {
     "data": {
      "image/png": "[encoded data removed]",
      "text/plain": [
       "<Figure size 432x288 with 2 Axes>"
      ]
     },
     "metadata": {},
     "output_type": "display_data"
    }
   ],
   "source": [
    "plt.subplot(2, 1, 1)\n",
    "plt.plot(cb['distance'], cb['initial_velocity'], \"r\")\n",
    "plt.ylabel('Initial Velocity')\n",
    "plt.xlabel('Distance')\n",
    "plt.xlim(65,73)\n",
    "plt.ylim(24.5,27)\n",
    "\n",
    "\n",
    "\n",
    "plt.subplot(2, 1, 2)\n",
    "plt.plot(dist, vels)\n",
    "plt.ylabel('Initial Velocity')\n",
    "plt.xlabel('Distance')\n",
    "plt.xlim(65,73)\n",
    "plt.ylim(24.5,27)"
   ]
  },
  {
   "cell_type": "markdown",
   "metadata": {},
   "source": [
    "#### 5.) We can see in the plot that we actually get close to our desired distance of 70 meters around 26 m/s initial velocity and then we overshoot it and end up at 72m. A common technique in scientific computing is to use a threshold instead of an actual value. Copy and paste the cannon ball code here. Edit the while loop so that instead of saying stop when xpos >= 70, stop when xpos within 1% of our desired target distance (70m) (3 points)"
   ]
  },
  {
   "cell_type": "code",
   "execution_count": 90,
   "metadata": {},
   "outputs": [],
   "source": [
    "# code here\n",
    "angle = 40.0 # 40 degrees\n",
    "h0 = 1.5 # 1.5 meters\n",
    "time = 0.1 # tenth of a second"
   ]
  },
  {
   "cell_type": "code",
   "execution_count": 119,
   "metadata": {},
   "outputs": [
    {
     "name": "stdout",
     "output_type": "stream",
     "text": [
      "Using a threshold instead of an actual value we stop at\n",
      "Velocity 25.86 m/s and distance 69.31 m\n"
     ]
    }
   ],
   "source": [
    "# set our starting velocity value\n",
    "vel = 10.0 # 10 m/s\n",
    "\n",
    "# also need to set an initial xpos to \n",
    "# initialize our loop\n",
    "xpos = 0.0\n",
    "ypos = h0\n",
    "vels = []\n",
    "dist = []\n",
    "\n",
    "# loop until we reach our desired distance\n",
    "while xpos < 69.3:\n",
    "    \n",
    "    # reset x anx y pos\n",
    "    # this is redundant for the first time through\n",
    "    # but nessecary for each time after that\n",
    "    xpos = 0.0\n",
    "    ypos = h0\n",
    "    \n",
    "    # Convert the angle from degrees to radians. \n",
    "    # Use Python's math library to compute the x and y velocities.\n",
    "    theta = math.pi * angle / 180.0\n",
    "    xvel = vel * math.cos(theta)\n",
    "    yvel = vel * math.sin(theta)\n",
    "\n",
    "    # Use a while loop to continually update the positions \n",
    "    # and y-velocity until the cannon ball hits the ground\n",
    "    while ypos > 0:\n",
    "        xpos = xpos + time * xvel\n",
    "        yvel1 = yvel - time * 9.8\n",
    "        ypos = ypos + time * (yvel + yvel1)/2.0\n",
    "        yvel = yvel1\n",
    "    \n",
    "    #print(\"  Initial velocity of %0.2f m/s go us to %0.1f m\" %(vel, xpos) )\n",
    "    vels.append(vel)\n",
    "    dist.append(xpos)\n",
    "\n",
    "    # increment our velocity by 1 m/s\n",
    "    # this is short-hand Python for vel = vel + 1\n",
    "    vel += 0.01\n",
    "    \n",
    "print('Using a threshold instead of an actual value we stop at')\n",
    "print('Velocity %0.2f m/s and distance %0.2f m' % (vel, xpos))"
   ]
  }
 ],
 "metadata": {
  "kernelspec": {
   "display_name": "Python 3",
   "language": "python",
   "name": "python3"
  },
  "language_info": {
   "codemirror_mode": {
    "name": "ipython",
    "version": 3
   },
   "file_extension": ".py",
   "mimetype": "text/x-python",
   "name": "python",
   "nbconvert_exporter": "python",
   "pygments_lexer": "ipython3",
   "version": "3.5.2"
  }
 },
 "nbformat": 4,
 "nbformat_minor": 2
}
